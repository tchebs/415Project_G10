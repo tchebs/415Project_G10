{
 "cells": [
  {
   "cell_type": "markdown",
   "metadata": {},
   "source": [
    "## Computer Vision Project - Group 10\n",
    "### Daniel Astorino \n",
    "#### Murray\n",
    "#### Julianna Tchebotareva 260761726\n",
    "#### Tyler Young  "
   ]
  },
  {
   "cell_type": "code",
   "execution_count": null,
   "metadata": {},
   "outputs": [],
   "source": [
    "# import necessary libraries\n",
    "import numpy as np\n",
    "import cv2\n",
    "import matplotlib.pyplot as plt"
   ]
  },
  {
   "cell_type": "code",
   "execution_count": null,
   "metadata": {},
   "outputs": [],
   "source": [
    "#import photos\n",
    "\n",
    "# trainingimgs = []\n",
    "# for num in range(1,31):\n",
    "#     trainingimgs.append(\"./train_set/p{number}.png\".format(number=num))\n",
    "\n",
    "# print(\"Photos in Set\", len(trainingimgs))\n",
    "    "
   ]
  }
 ],
 "metadata": {
  "kernelspec": {
   "display_name": "Python 3",
   "language": "python",
   "name": "python3"
  },
  "language_info": {
   "codemirror_mode": {
    "name": "ipython",
    "version": 3
   },
   "file_extension": ".py",
   "mimetype": "text/x-python",
   "name": "python",
   "nbconvert_exporter": "python",
   "pygments_lexer": "ipython3",
   "version": "3.7.4"
  }
 },
 "nbformat": 4,
 "nbformat_minor": 2
}
