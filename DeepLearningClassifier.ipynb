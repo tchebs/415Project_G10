{
 "cells": [
  {
   "cell_type": "code",
   "execution_count": 127,
   "metadata": {},
   "outputs": [],
   "source": [
    "import numpy as np\n",
    "import cv2\n",
    "import matplotlib.pyplot as plt\n",
    "import glob\n",
    "import torch\n",
    "import torch.nn as nn\n",
    "import torch.nn.functional as F\n",
    "import torch.optim as optim\n",
    "from torch.autograd import Variable\n",
    "import torchvision\n",
    "import torchvision.transforms as transforms\n",
    "import pandas as pd\n",
    "from skimage import io, transform\n",
    "import os\n",
    "from PIL import Image"
   ]
  },
  {
   "cell_type": "code",
   "execution_count": 128,
   "metadata": {},
   "outputs": [
    {
     "name": "stdout",
     "output_type": "stream",
     "text": [
      "True\n"
     ]
    }
   ],
   "source": [
    "print(torch.cuda.is_available())"
   ]
  },
  {
   "cell_type": "code",
   "execution_count": 129,
   "metadata": {
    "scrolled": true
   },
   "outputs": [
    {
     "name": "stdout",
     "output_type": "stream",
     "text": [
      "               Id  Category\n",
      "0     image_02306        41\n",
      "1     image_06792        21\n",
      "2     image_05094         2\n",
      "3     image_02812        56\n",
      "4     image_03737        37\n",
      "...           ...       ...\n",
      "5995  image_06372        15\n",
      "5996  image_01744        83\n",
      "5997  image_04118        29\n",
      "5998  image_00859        81\n",
      "5999  image_05460        87\n",
      "\n",
      "[6000 rows x 2 columns]\n",
      "6000\n",
      "RangeIndex(start=0, stop=6000, step=1)\n",
      "41\n",
      "<class 'numpy.int64'>\n"
     ]
    }
   ],
   "source": [
    "labels = pd.read_csv('flower_classification/training_label.csv')\n",
    "print(labels)\n",
    "print(len(labels))\n",
    "print(labels.index)\n",
    "print(labels.iloc[0, 1])\n",
    "print(type(labels.iloc[0, 1]))\n",
    "# print(os.listdir('flower_classification/training'))"
   ]
  },
  {
   "cell_type": "code",
   "execution_count": 130,
   "metadata": {
    "scrolled": false
   },
   "outputs": [
    {
     "name": "stdout",
     "output_type": "stream",
     "text": [
      "5000\n",
      "(tensor([[[-0.2549, -0.3176, -0.3098,  ..., -0.8510, -0.8275, -0.8902],\n",
      "         [-0.4588, -0.2235, -0.3647,  ..., -0.8353, -0.8196, -0.8667],\n",
      "         [-0.8118, -0.4431, -0.2784,  ..., -0.9059, -0.8667, -0.8431],\n",
      "         ...,\n",
      "         [-0.5451, -0.6627, -0.7333,  ..., -0.9373, -0.9294, -0.9216],\n",
      "         [-0.7333, -0.6706, -0.5922,  ..., -0.8588, -0.8980, -0.8980],\n",
      "         [-0.8667, -0.6471, -0.5686,  ..., -0.7882, -0.8902, -0.8667]],\n",
      "\n",
      "        [[-0.7176, -0.6235, -0.6863,  ..., -0.7804, -0.7804, -0.7725],\n",
      "         [-0.7098, -0.7098, -0.6706,  ..., -0.7647, -0.7490, -0.7647],\n",
      "         [-0.7255, -0.7882, -0.8588,  ..., -0.7961, -0.7725, -0.7412],\n",
      "         ...,\n",
      "         [-0.3725, -0.4588, -0.5059,  ..., -0.7882, -0.7647, -0.7490],\n",
      "         [-0.6235, -0.4667, -0.4039,  ..., -0.6863, -0.7255, -0.7098],\n",
      "         [-0.8902, -0.4902, -0.3804,  ..., -0.6157, -0.7412, -0.7176]],\n",
      "\n",
      "        [[-0.6627, -0.7647, -0.8824,  ..., -0.9843, -0.9765, -0.9765],\n",
      "         [-0.7882, -0.7176, -0.8118,  ..., -0.9765, -0.9686, -0.9686],\n",
      "         [-0.9294, -0.8039, -0.7804,  ..., -0.9843, -0.9686, -0.9373],\n",
      "         ...,\n",
      "         [-0.9059, -0.9608, -0.9686,  ..., -0.9843, -0.9843, -0.9843],\n",
      "         [-0.9765, -0.9686, -0.9137,  ..., -0.9765, -0.9843, -0.9765],\n",
      "         [-0.9843, -0.9686, -0.9608,  ..., -0.9686, -0.9686, -0.9451]]]), 41)\n",
      "<class 'torch.Tensor'>\n",
      "torch.Size([3, 32, 32])\n"
     ]
    },
    {
     "data": {
      "image/png": "[encoded data removed]",
      "text/plain": [
       "<Figure size 432x288 with 1 Axes>"
      ]
     },
     "metadata": {
      "needs_background": "light"
     },
     "output_type": "display_data"
    },
    {
     "name": "stdout",
     "output_type": "stream",
     "text": [
      "46 90 19 100\n"
     ]
    }
   ],
   "source": [
    "transform = transforms.Compose([transforms.Resize((32, 32)),\n",
    "                                transforms.ToTensor(),\n",
    "                                transforms.Normalize((.5,.5,.5), (.5,.5,.5))])\n",
    "\n",
    "csv_fname = 'flower_classification/training_label.csv'\n",
    "\n",
    "img_list = pd.read_csv(csv_fname)\n",
    "\n",
    "train_images = []\n",
    "train_labels = []\n",
    "\n",
    "test_images = []\n",
    "test_labels = []\n",
    "\n",
    "main_dir = 'flower_classification/training/'\n",
    "for i in range(len(img_list)):\n",
    "    if i < 5000:\n",
    "        train_images.append(Image.open(main_dir + img_list.iloc[i, 0] + '.jpg'))\n",
    "        train_labels.append(img_list.iloc[i, 1])\n",
    "    else:\n",
    "        test_images.append(Image.open(main_dir + img_list.iloc[i, 0] + '.jpg'))\n",
    "        test_labels.append(img_list.iloc[i, 1])\n",
    "\n",
    "class CustomDataSet(torch.utils.data.Dataset):\n",
    "    def __init__(self, images, labels, transform):\n",
    "        self.images = images\n",
    "        self.labels = labels\n",
    "        self.transform = transform\n",
    "#         all_imgs = os.listdir(main_dir)\n",
    "\n",
    "    def __len__(self):\n",
    "        return len(self.labels)\n",
    "\n",
    "    def __getitem__(self, idx):\n",
    "#         img_loc = os.path.join(self.main_dir, self.total_imgs[idx])\n",
    "#         image = Image.open(img_loc).convert(\"RGB\")\n",
    "#         tensor_image = self.transform(image)\n",
    "#         if (torch.is_tensor(idx)):\n",
    "#             idx = idx.tolist()\n",
    "#         img_name = os.path.join(self.main_dir, self.labels.iloc[idx, 0] + '.jpg')\n",
    "# #         image = io.imread(img_name)\n",
    "#         image = Image.open(img_name)\n",
    "        image = self.images[idx]\n",
    "        image_label = self.labels[idx]\n",
    "        \n",
    "        if self.transform:\n",
    "            image = self.transform(image)\n",
    "        return image, image_label\n",
    "\n",
    "trainset = CustomDataSet(train_images, train_labels, transform)\n",
    "trainloader = torch.utils.data.DataLoader(trainset, batch_size = 4, shuffle = True)\n",
    "\n",
    "testset = CustomDataSet(test_images, test_labels, transform)\n",
    "testloader = torch.utils.data.DataLoader(testset, batch_size = 4, shuffle = True)\n",
    "\n",
    "print(len(trainset))\n",
    "print(trainset[0])\n",
    "print(type(trainset[0][0]))\n",
    "print(trainset[0][0].shape)\n",
    "\n",
    "# for i, dat in enumerate(dataset_loader):\n",
    "#     print(dat)\n",
    "def imshow(img):\n",
    "    # unnormalize\n",
    "    img = img / 2 + 0.5\n",
    "    npimg = img.numpy()\n",
    "    plt.imshow(np.transpose(npimg, (1, 2, 0)))\n",
    "    plt.show()\n",
    "    \n",
    "# get some random training image\n",
    "dataiter = iter(trainloader)\n",
    "images, labels = dataiter.next()\n",
    "\n",
    "# show images\n",
    "imshow(torchvision.utils.make_grid(images))\n",
    "# print labels\n",
    "print(' '.join('%d' % labels[j] for j in range(4)))\n",
    "# trainset = torchvision.datasets.CIFAR10(root='./data', train=True,\n",
    "#                                        download=True, transform=transform)\n",
    "\n",
    "# trainloader = torch.utils.data.DataLoader(trainset, batch_size=4,\n",
    "#                                          shuffle=True, num_workers=2)\n",
    "\n",
    "# testset = torchvision.datasets.CIFAR10(root='.data', train=False,\n",
    "#                                       download=True, transform=transform)\n",
    "\n",
    "# testloader = torch.utils.data.DataLoader(testset, batch_size=4,\n",
    "#                                         shuffle=False, num_workers=2)\n",
    "\n",
    "# classes = ('plane', 'car', 'bird', 'cat', 'deer', 'dog', 'frog',\n",
    "#           'horse', 'ship', 'truck')"
   ]
  },
  {
   "cell_type": "code",
   "execution_count": 131,
   "metadata": {},
   "outputs": [
    {
     "name": "stdout",
     "output_type": "stream",
     "text": [
      "Net(\n",
      "  (conv1): Conv2d(3, 400, kernel_size=(5, 5), stride=(1, 1))\n",
      "  (pool): MaxPool2d(kernel_size=2, stride=2, padding=0, dilation=1, ceil_mode=False)\n",
      "  (conv2): Conv2d(400, 16, kernel_size=(5, 5), stride=(1, 1))\n",
      "  (fc1): Linear(in_features=400, out_features=300, bias=True)\n",
      "  (fc2): Linear(in_features=300, out_features=200, bias=True)\n",
      "  (fc3): Linear(in_features=200, out_features=103, bias=True)\n",
      ")\n"
     ]
    }
   ],
   "source": [
    "class Net(nn.Module):\n",
    "    def __init__(self):\n",
    "        super(Net, self).__init__()\n",
    "        self.conv1 = nn.Conv2d(3, 400, 5)\n",
    "        self.pool = nn.MaxPool2d(2, 2)\n",
    "        self.conv2 = nn.Conv2d(400, 16, 5)\n",
    "        self.fc1 = nn.Linear(16 * 5 * 5, 300)\n",
    "        self.fc2 = nn.Linear(300, 200)\n",
    "        self.fc3 = nn.Linear(200, 103)\n",
    "        \n",
    "    def forward(self, x):\n",
    "        x = self.pool(F.relu(self.conv1(x)))\n",
    "        x = self.pool(F.relu(self.conv2(x)))\n",
    "        x = x.view(-1, 16 * 5 * 5)\n",
    "        x = F.relu(self.fc1(x))\n",
    "        x = F.relu(self.fc2(x))\n",
    "        x = self.fc3(x)\n",
    "        return x\n",
    "\n",
    "net = Net()\n",
    "net.cuda()\n",
    "print(net)"
   ]
  },
  {
   "cell_type": "code",
   "execution_count": 132,
   "metadata": {},
   "outputs": [],
   "source": [
    "criterion = nn.CrossEntropyLoss()\n",
    "optimizer = optim.SGD(net.parameters(), lr=0.001, momentum=0.9)"
   ]
  },
  {
   "cell_type": "code",
   "execution_count": 133,
   "metadata": {},
   "outputs": [
    {
     "name": "stdout",
     "output_type": "stream",
     "text": [
      "[1,   500] loss: 1.137\n",
      "[1,  1000] loss: 1.049\n",
      "[2,   500] loss: 0.917\n",
      "[2,  1000] loss: 0.879\n"
     ]
    }
   ],
   "source": [
    "for epoch in range(2):\n",
    "    running_loss = 0.0\n",
    "    for i, data in enumerate(trainloader):\n",
    "        # get the inputs\n",
    "        inputs, labels = data[0].cuda(), data[1].cuda()\n",
    "        \n",
    "        # zero the parameter gradients\n",
    "        optimizer.zero_grad()\n",
    "        \n",
    "        # foreward, backward and optimize\n",
    "        outputs = net(inputs)\n",
    "        loss = criterion(outputs, labels)\n",
    "        loss.backward()\n",
    "        optimizer.step()\n",
    "        \n",
    "        # print statistics\n",
    "        running_loss += loss.item()\n",
    "        if i % 500 == 499:  # print every 2000 mini-batches\n",
    "            print('[%d, %5d] loss: %.3f' %\n",
    "                 (epoch + 1, i+1, running_loss/2000))\n",
    "            running_loss = 0.0"
   ]
  },
  {
   "cell_type": "code",
   "execution_count": 134,
   "metadata": {},
   "outputs": [
    {
     "data": {
      "image/png": "[encoded data removed]",
      "text/plain": [
       "<Figure size 432x288 with 1 Axes>"
      ]
     },
     "metadata": {
      "needs_background": "light"
     },
     "output_type": "display_data"
    },
    {
     "name": "stdout",
     "output_type": "stream",
     "text": [
      "GroundTruth:  65 81 42 32\n"
     ]
    }
   ],
   "source": [
    "dataiter = iter(testloader)\n",
    "data = dataiter.next()\n",
    "images, labels = data[0].cuda(), data[1].cuda()\n",
    "\n",
    "# print images\n",
    "cpu_images = images.cpu()\n",
    "imshow(torchvision.utils.make_grid(cpu_images))\n",
    "print('GroundTruth: ', ' '.join('%d' % labels[j] for j in range(4)))"
   ]
  },
  {
   "cell_type": "code",
   "execution_count": 135,
   "metadata": {},
   "outputs": [
    {
     "name": "stdout",
     "output_type": "stream",
     "text": [
      "tensor([[-2.1833, -1.0914, -1.4922,  0.3555, -0.5817,  0.9532,  1.3785, -0.9862,\n",
      "          2.5821, -2.0534,  0.2271,  1.0399,  2.4834, -0.8505,  1.3788,  2.8378,\n",
      "          1.6088, -0.1590,  1.0347, -1.3227, -0.4019,  1.8183, -1.2475,  0.1256,\n",
      "          0.1169, -0.1040, -0.6718, -0.7859, -0.4189, -2.4223, -0.9765, -0.5080,\n",
      "         -1.6299,  1.2401, -1.5468,  0.3652, -3.2158, -1.1903,  0.1912, -1.8955,\n",
      "          0.9741,  1.0994,  2.2180,  0.7714, -1.6508, -0.8980,  0.8479,  1.5562,\n",
      "          2.3722,  0.8119,  0.5585,  0.9531,  0.5116,  2.0881,  3.8110, -0.9837,\n",
      "         -1.8471, -1.0981, -2.1008, -0.6992,  0.3070,  1.1601, -1.3588,  1.6936,\n",
      "         -1.0337,  2.2258, -3.0162, -0.4772,  0.6180, -1.1828, -0.1896,  1.5352,\n",
      "         -1.3812, -0.6654, -0.0565, -1.1517, -1.5130,  0.7422, -1.1960, -0.2519,\n",
      "         -1.0403,  2.2400, -1.0322,  0.5223,  0.7794, -1.5964, -1.9885,  0.5283,\n",
      "         -1.3993,  0.6275,  1.3855,  0.1783, -0.2269, -1.0536, -0.2201,  0.0391,\n",
      "          0.1212,  0.8194, -2.8753, -0.0434,  0.9652, -0.1619,  0.2018],\n",
      "        [-3.3857,  2.0018,  1.7795,  1.2156, -0.4426, -2.7885, -2.3513,  2.3428,\n",
      "          0.8172, -2.3215,  0.7672,  2.7016,  0.6273,  2.0839,  0.2524,  2.1784,\n",
      "          0.3899, -0.3559,  0.7009, -1.1669,  2.9977, -0.6409,  0.9164,  0.7972,\n",
      "         -3.4713, -1.1725, -4.0503, -2.6228, -1.1904, -2.2883, -1.9757, -0.9181,\n",
      "         -0.8475,  2.4832, -1.5829,  2.4663,  0.4613, -2.7329,  1.9763, -1.3957,\n",
      "          0.8415,  0.0677,  0.5657,  0.6125, -1.3507, -1.7896, -1.4747,  0.1972,\n",
      "          0.7870,  6.3043, -1.3502,  4.8291,  3.9570,  2.5359, -2.1607, -0.2190,\n",
      "         -4.7803,  0.3952, -5.4459, -4.1067,  0.6660, -0.0854,  2.1498, -1.6979,\n",
      "          2.9069, -0.0813, -3.6599,  1.8487,  1.1561,  3.0982,  4.4389, -3.0586,\n",
      "         -1.8366,  2.2424, -1.0224,  3.0810, -0.3507,  3.6483,  2.0110,  0.8326,\n",
      "         -1.4304,  5.0662,  0.7638,  0.2649,  4.0246, -1.8481, -2.6313,  2.7098,\n",
      "         -0.0222, -2.6465, -1.4198,  0.6499, -0.6719, -2.0244, -0.2295, -0.1293,\n",
      "          1.5713, -0.3640, -2.1409, -3.2011, -3.1821, -2.2966, -1.2135],\n",
      "        [-3.3056, -1.6257, -1.1974, -3.2295, -3.3282,  2.7189,  0.8972, -1.9519,\n",
      "          3.3838, -4.6792, -3.2915,  2.3801,  4.0320,  0.1731, -1.9826,  5.3643,\n",
      "          2.9362, -1.5158,  1.7878, -4.1766, -1.1540,  3.1307, -3.1297, -1.0935,\n",
      "         -1.5405, -4.0134, -2.0310,  1.5821, -4.0822, -3.9430, -2.8047, -1.4252,\n",
      "         -3.3906, -1.9903, -2.9420, -2.0705, -3.5101, -4.5283, -1.9451, -3.2886,\n",
      "         -0.1801,  1.9739,  4.8866,  2.6230, -1.5215, -3.4432,  6.1855,  6.0463,\n",
      "          6.1875,  1.2539,  5.5961,  1.7132,  1.4558,  3.7014,  1.1815, -2.0356,\n",
      "         -2.2840, -0.5063, -3.3853,  2.5235,  2.8649,  0.9949, -0.6665,  3.7253,\n",
      "         -1.1905,  6.2459, -4.2923, -1.8323,  0.7144, -1.2720,  1.4521,  2.0104,\n",
      "         -2.7957,  2.1882,  2.3668, -1.7231, -3.7629, -1.6399,  0.0189, -1.6988,\n",
      "         -0.2107,  3.5152, -3.2921,  3.6611,  3.0688, -2.4637, -4.6025,  1.9769,\n",
      "         -2.3871,  1.8668,  2.5901,  0.5290, -0.0620, -2.8645, -2.6474,  0.9860,\n",
      "          2.0258,  1.3202, -4.6632,  0.4262,  0.3911, -0.6698,  2.9651],\n",
      "        [-3.9476,  1.6840, -0.1739,  3.0624,  4.9592, -5.1915, -2.1706, -1.0797,\n",
      "         -4.0774, -0.3962,  0.4521,  2.7216, -4.8941,  0.3607, -0.0686, -5.4065,\n",
      "         -5.6407,  5.0669,  1.6094,  1.0058, -2.0695, -3.9066,  4.2600,  1.8356,\n",
      "         -2.3991, -0.5773, -1.4779, -1.6433, -2.8465,  2.3384,  5.1631,  1.6004,\n",
      "          4.3948, -0.4771,  4.4351, -1.3472,  4.0896,  0.9873, -0.2118,  1.2263,\n",
      "          1.1986,  2.9560, -4.9948,  2.0969,  0.7504,  4.0932, -3.9324, -3.8386,\n",
      "         -5.9143, -2.4512, -5.8343,  4.7492,  1.3514,  1.6457, -5.2883,  2.2140,\n",
      "         -2.4017, -1.8152, -4.6515, -6.0083, -5.5513, -4.1330,  0.3929, -7.1275,\n",
      "         -3.1024, -4.5383,  6.9773,  2.4353,  0.8529, -4.0903, -2.1511, -4.0568,\n",
      "          5.0417,  1.4400,  0.4368, -1.9278,  4.6188,  1.3172,  0.1452, -1.2335,\n",
      "          1.3627, -5.0785,  4.9501,  1.7925,  0.6752,  3.6187,  4.7667,  0.4074,\n",
      "          5.3516, -4.1052, -2.8562, -0.2286,  3.3044,  1.3638,  5.9368,  5.5334,\n",
      "          2.2092,  0.5743,  3.0901, -0.4436, -1.0325,  2.2015, -3.3086]],\n",
      "       device='cuda:0', grad_fn=<AddmmBackward>)\n",
      "Predicted:  54 49 65 66\n"
     ]
    }
   ],
   "source": [
    "outputs = net(images)\n",
    "print(outputs)\n",
    "_, predicted = torch.max(outputs.data, 1)\n",
    "print('Predicted: ', ' '.join('%d' % predicted[j]\n",
    "                              for j in range(4)))"
   ]
  },
  {
   "cell_type": "code",
   "execution_count": 136,
   "metadata": {},
   "outputs": [
    {
     "name": "stdout",
     "output_type": "stream",
     "text": [
      "Accuracy of the network on the 5000 test images: 13 %\n"
     ]
    }
   ],
   "source": [
    "correct = 0\n",
    "total = 0\n",
    "for data in testloader:\n",
    "    images, labels = data[0].cuda(), data[1].cuda()\n",
    "    outputs = net(images)\n",
    "    _, predicted = torch.max(outputs.data, 1)\n",
    "    total += labels.size(0)\n",
    "    correct += (predicted == labels).sum()\n",
    "    \n",
    "print('Accuracy of the network on the 5000 test images: %d %%' % (\n",
    "100 * correct / total))"
   ]
  },
  {
   "cell_type": "code",
   "execution_count": null,
   "metadata": {},
   "outputs": [],
   "source": []
  }
 ],
 "metadata": {
  "kernelspec": {
   "display_name": "Python [conda env:opencv]",
   "language": "python",
   "name": "conda-env-opencv-py"
  },
  "language_info": {
   "codemirror_mode": {
    "name": "ipython",
    "version": 3
   },
   "file_extension": ".py",
   "mimetype": "text/x-python",
   "name": "python",
   "nbconvert_exporter": "python",
   "pygments_lexer": "ipython3",
   "version": "3.7.6"
  }
 },
 "nbformat": 4,
 "nbformat_minor": 2
}
